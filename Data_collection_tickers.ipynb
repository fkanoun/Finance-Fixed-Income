{
 "cells": [
  {
   "cell_type": "code",
   "execution_count": 5,
   "metadata": {},
   "outputs": [],
   "source": [
    "import pdblp\n",
    "import pandas as pd\n",
    "import math\n",
    "import matplotlib.pyplot as plt\n",
    "from helpers import *"
   ]
  },
  {
   "cell_type": "code",
   "execution_count": 6,
   "metadata": {},
   "outputs": [
    {
     "data": {
      "text/plain": [
       "<pdblp.pdblp.BCon at 0x9bf9550>"
      ]
     },
     "execution_count": 6,
     "metadata": {},
     "output_type": "execute_result"
    }
   ],
   "source": [
    "con = pdblp.BCon(timeout=50000)\n",
    "con.start()"
   ]
  },
  {
   "cell_type": "markdown",
   "metadata": {},
   "source": [
    "### Data Collection from Tickers"
   ]
  },
  {
   "cell_type": "code",
   "execution_count": null,
   "metadata": {
    "scrolled": false
   },
   "outputs": [
    {
     "name": "stdout",
     "output_type": "stream",
     "text": [
      "Collecting data of NXP Semiconductors NV for bond : NXPI 4 1/8 06/01/21 \n",
      "\n",
      "**** Collecting S&P ratings ****\n",
      "Upgrade from S&P on 20160808 from BB+ to BBB-\n",
      "**** Collecting fitch ratings ****\n",
      "**** Collecting moodys ratings ****\n",
      "Upgrade from Moody on 20160808 from Ba2 to Ba1\n",
      "Upgrade from Moody on 20181106 from Ba1 to Baa3\n",
      "**** Collecting TOT_DEBT_TO_TOT_EQY ****\n",
      "**** Collecting CUR_RATIO ****\n",
      "**** Collecting IS_EPS ****\n"
     ]
    }
   ],
   "source": [
    "Tickers = ['EJ536676@BMRK Corp','EK811981@BMRK Corp','EK889574@BMRK Corp','EK882203@BMRK Corp','QJ596534@BMRK Corp',\n",
    "          'LW454664@BMRK Corp','LW920639@BMRK Corp','QZ697270@BMRK Corp','AM300848@BMRK Corp','AM418735@CBBT Corp',\n",
    "          'LW158489@BMRK Corp','EJ509866@BMRK Corp','AR552653@BMRK Corp',\n",
    "          ]\n",
    "\n",
    "#Get data from tickers\n",
    "for ticker in Tickers :\n",
    "    collect_data_from_ticker(ticker)\n",
    "    "
   ]
  },
  {
   "cell_type": "code",
   "execution_count": null,
   "metadata": {},
   "outputs": [],
   "source": [
    "Tickers = ['EJ536676@BMRK Corp','EK811981@BMRK Corp','EK889574@BMRK Corp','EK882203@BMRK Corp','QJ596534@BMRK Corp',\n",
    "          'LW454664@BMRK Corp','LW920639@BMRK Corp','QZ697270@BMRK Corp','AM300848@BMRK Corp','AM418735@CBBT Corp',\n",
    "          'LW158489@BMRK Corp','EJ509866@BMRK Corp','AR552653@BMRK Corp'\n",
    "          ]\n",
    "#Get data from tickers BB_COMPOSITE\n",
    "for ticker in Tickers :\n",
    "    df = pd.DataFrame(columns=['Date'])\n",
    "    issue_date = con.ref(ticker,'ISSUE_DT')['value'][0].strftime(\"%Y%m%d\")\n",
    "    intermediate_dates = get_date_range(issue_date,TODAY_DATE)\n",
    "    for i,day in enumerate(intermediate_dates):\n",
    "    \n",
    "        row = con.ref(ticker,'BB_COMPOSITE',ovrds=[('RATING_AS_OF_DATE_OVERRIDE', day)])\n",
    "        current_rating = row['value'][0]\n",
    "        df.loc[i,'BB_COMPOSITE'] = current_rating\n",
    "        df.to_csv('BB_COMPOSITE_'+ticker+'.csv')"
   ]
  }
 ],
 "metadata": {
  "kernelspec": {
   "display_name": "Python 3",
   "language": "python",
   "name": "python3"
  },
  "language_info": {
   "codemirror_mode": {
    "name": "ipython",
    "version": 3
   },
   "file_extension": ".py",
   "mimetype": "text/x-python",
   "name": "python",
   "nbconvert_exporter": "python",
   "pygments_lexer": "ipython3",
   "version": "3.7.3"
  }
 },
 "nbformat": 4,
 "nbformat_minor": 2
}
